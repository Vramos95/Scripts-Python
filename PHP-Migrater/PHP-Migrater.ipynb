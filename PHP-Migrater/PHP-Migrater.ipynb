{
 "cells": [
  {
   "cell_type": "code",
   "execution_count": 15,
   "metadata": {},
   "outputs": [],
   "source": [
    "from os import listdir"
   ]
  },
  {
   "cell_type": "code",
   "execution_count": 72,
   "metadata": {},
   "outputs": [],
   "source": [
    "php_dict = {\n",
    "    1: 'localhost',\n",
    "    2: 'root',\n",
    "    3: 'vbaeflcxn',\n",
    "    4: 'u160871db1'\n",
    "}"
   ]
  },
  {
   "cell_type": "code",
   "execution_count": 73,
   "metadata": {},
   "outputs": [],
   "source": [
    "def change_phps():\n",
    "    files = listdir('PHPs')\n",
    "    for file in files:\n",
    "        print(file)\n",
    "        count = 0\n",
    "        with open('PHPs/'+ file, 'r+') as f:\n",
    "            with open('PHPS-Migrateds/' + file,'w') as f_write:\n",
    "                for line in f:\n",
    "                    if count is 1 and not '$host' in line:\n",
    "                        f_write.write(line)\n",
    "                    elif count > 0 and count < 5:\n",
    "                        splitted = line.split(';')\n",
    "                        splitted_2 = splitted[0].split('=')\n",
    "                        splitted_2[1] = '\\\"' + php_dict[count] + '\\\"'\n",
    "                        joined = '='.join(splitted_2)\n",
    "                        splitted[0] = joined\n",
    "                        line = ';'.join(splitted)\n",
    "                        f_write.write(line)\n",
    "                        count = count + 1\n",
    "                    else:\n",
    "                        f_write.write(line)\n",
    "                        count = count + 1\n",
    "                    \n",
    "                    \n",
    "            "
   ]
  },
  {
   "cell_type": "code",
   "execution_count": 74,
   "metadata": {},
   "outputs": [
    {
     "name": "stdout",
     "output_type": "stream",
     "text": [
      "borrarcompra.php\n",
      "cambiarapellido1.php\n",
      "cambiarapellido2.php\n",
      "cambiarcompra.php\n",
      "cambiarnombre.php\n",
      "cambiopass.php\n",
      "cambiopass0.php\n",
      "eliminarcompra.php\n",
      "eliminarusuario.php\n",
      "modificarcompra.php\n",
      "modificarimagen.php\n",
      "modificarperfilinversor.php\n",
      "nuevacompra.php\n",
      "query.php\n",
      "querylog.php\n",
      "queryolvidoclave.php\n",
      "recuperarcompra.php\n",
      "recuperarcompras.php\n",
      "ey\n",
      "reg.php\n",
      "validarhash.php\n",
      "validarhasholvidoclave.php\n"
     ]
    }
   ],
   "source": [
    "change_phps()"
   ]
  },
  {
   "cell_type": "code",
   "execution_count": null,
   "metadata": {},
   "outputs": [],
   "source": []
  }
 ],
 "metadata": {
  "kernelspec": {
   "display_name": "Python 3",
   "language": "python",
   "name": "python3"
  },
  "language_info": {
   "codemirror_mode": {
    "name": "ipython",
    "version": 3
   },
   "file_extension": ".py",
   "mimetype": "text/x-python",
   "name": "python",
   "nbconvert_exporter": "python",
   "pygments_lexer": "ipython3",
   "version": "3.7.4"
  }
 },
 "nbformat": 4,
 "nbformat_minor": 2
}
